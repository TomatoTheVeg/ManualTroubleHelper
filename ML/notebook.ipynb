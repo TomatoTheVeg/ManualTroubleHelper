{
 "cells": [
  {
   "cell_type": "markdown",
   "id": "cacb23c7-0c2a-4af8-b1db-97e0a04f2afb",
   "metadata": {},
   "source": [
    "# Challenge\n",
    "\n",
    "Your task is to develop an AI/LLM solution that bridges this digital divide. Specifically, your solution should:\n",
    "\n",
    "1. **Interpret and Explain Error Codes/Messages**:\n",
    "   - Utilize the provided PDF (ARCL_RG.pdf) containing a user manual and real machine error codes/messages.\n",
    "   - The AI should accurately interpret these codes/messages and provide clear, understandable explanations to users.\n",
    "\n",
    "2. **Enhance Accessibility**:\n",
    "   - Focus on making the technology accessible to all, particularly older adults and those less familiar with digital tools.\n",
    "\n",
    "3. **Simplify User Interaction**:\n",
    "   - Design the user interface to be intuitive and user-friendly, reducing complexity and making technology more approachable for everyone.\n",
    "\n",
    "To support your development, we will provide real machine data and a comprehensive machine manual. These resources will help you create a solution that is both practical and applicable to real-world scenarios.\n",
    "\n",
    "# Objective\n",
    "\n",
    "Ensure that technology becomes an aid, not a hindrance, in people's lives. Your solution should empower users, allowing them to maintain control over technology and derive genuine personal value from it."
   ]
  },
  {
   "cell_type": "code",
   "execution_count": 613,
   "id": "cd158c06-4fd0-4bbd-8e2f-74efacb2b06b",
   "metadata": {
    "ExecuteTime": {
     "end_time": "2024-05-24T11:25:42.528827Z",
     "start_time": "2024-05-24T11:25:42.447853Z"
    }
   },
   "outputs": [
    {
     "data": {
      "text/plain": "                              prev                          now  \\\n173                           None  Error: Failed going to goal   \n174                           None  Error: Failed going to goal   \n175    Error: Failed going to goal                         None   \n176                           None  Error: Failed going to goal   \n177    Error: Failed going to goal                         None   \n...                            ...                          ...   \n10471  Error: Failed going to goal                         None   \n10472                         None  Error: Failed going to goal   \n10473  Error: Failed going to goal                         None   \n10474                         None  Error: Failed going to goal   \n10475  Error: Failed going to goal                         None   \n\n                               changed       name                        id  \\\n173   2024-04-18 04:51:47.382000+00:00  Scooter08  65f9483463b8a173a0ec0b53   \n174   2024-04-18 04:51:52.363000+00:00  Scooter21  65f9483463b8a173a0ec0b6d   \n175   2024-04-18 04:51:52.783000+00:00  Scooter21  65f9483463b8a173a0ec0b6d   \n176   2024-04-18 04:52:03.023000+00:00  Scooter21  65f9483463b8a173a0ec0b6d   \n177   2024-04-18 04:52:03.425000+00:00  Scooter21  65f9483463b8a173a0ec0b6d   \n...                                ...        ...                       ...   \n10471 2024-04-20 11:56:33.930000+00:00  Scooter27  65f9483463b8a173a0ec0b79   \n10472 2024-04-20 11:56:47.241000+00:00  Scooter27  65f9483463b8a173a0ec0b79   \n10473 2024-04-20 11:56:47.638000+00:00  Scooter27  65f9483463b8a173a0ec0b79   \n10474 2024-04-20 11:57:01.089000+00:00  Scooter27  65f9483463b8a173a0ec0b79   \n10475 2024-04-20 11:57:01.483000+00:00  Scooter27  65f9483463b8a173a0ec0b79   \n\n                                info  emergencyState statusActivity  \n173      Error: Failed going to goal           False          error  \n174      Error: Failed going to goal           False          error  \n175    Going to Back_344_Ver_TO41_01           False        driving  \n176      Error: Failed going to goal           False          error  \n177    Going to Back_344_Ver_TO41_01           False        driving  \n...                              ...             ...            ...  \n10471          Going to Magazin_MS_1           False        driving  \n10472    Error: Failed going to goal           False          error  \n10473          Going to Magazin_MS_1           False        driving  \n10474    Error: Failed going to goal           False          error  \n10475                 Teleop driving           False          error  \n\n[10303 rows x 8 columns]",
      "text/html": "<div>\n<style scoped>\n    .dataframe tbody tr th:only-of-type {\n        vertical-align: middle;\n    }\n\n    .dataframe tbody tr th {\n        vertical-align: top;\n    }\n\n    .dataframe thead th {\n        text-align: right;\n    }\n</style>\n<table border=\"1\" class=\"dataframe\">\n  <thead>\n    <tr style=\"text-align: right;\">\n      <th></th>\n      <th>prev</th>\n      <th>now</th>\n      <th>changed</th>\n      <th>name</th>\n      <th>id</th>\n      <th>info</th>\n      <th>emergencyState</th>\n      <th>statusActivity</th>\n    </tr>\n  </thead>\n  <tbody>\n    <tr>\n      <th>173</th>\n      <td>None</td>\n      <td>Error: Failed going to goal</td>\n      <td>2024-04-18 04:51:47.382000+00:00</td>\n      <td>Scooter08</td>\n      <td>65f9483463b8a173a0ec0b53</td>\n      <td>Error: Failed going to goal</td>\n      <td>False</td>\n      <td>error</td>\n    </tr>\n    <tr>\n      <th>174</th>\n      <td>None</td>\n      <td>Error: Failed going to goal</td>\n      <td>2024-04-18 04:51:52.363000+00:00</td>\n      <td>Scooter21</td>\n      <td>65f9483463b8a173a0ec0b6d</td>\n      <td>Error: Failed going to goal</td>\n      <td>False</td>\n      <td>error</td>\n    </tr>\n    <tr>\n      <th>175</th>\n      <td>Error: Failed going to goal</td>\n      <td>None</td>\n      <td>2024-04-18 04:51:52.783000+00:00</td>\n      <td>Scooter21</td>\n      <td>65f9483463b8a173a0ec0b6d</td>\n      <td>Going to Back_344_Ver_TO41_01</td>\n      <td>False</td>\n      <td>driving</td>\n    </tr>\n    <tr>\n      <th>176</th>\n      <td>None</td>\n      <td>Error: Failed going to goal</td>\n      <td>2024-04-18 04:52:03.023000+00:00</td>\n      <td>Scooter21</td>\n      <td>65f9483463b8a173a0ec0b6d</td>\n      <td>Error: Failed going to goal</td>\n      <td>False</td>\n      <td>error</td>\n    </tr>\n    <tr>\n      <th>177</th>\n      <td>Error: Failed going to goal</td>\n      <td>None</td>\n      <td>2024-04-18 04:52:03.425000+00:00</td>\n      <td>Scooter21</td>\n      <td>65f9483463b8a173a0ec0b6d</td>\n      <td>Going to Back_344_Ver_TO41_01</td>\n      <td>False</td>\n      <td>driving</td>\n    </tr>\n    <tr>\n      <th>...</th>\n      <td>...</td>\n      <td>...</td>\n      <td>...</td>\n      <td>...</td>\n      <td>...</td>\n      <td>...</td>\n      <td>...</td>\n      <td>...</td>\n    </tr>\n    <tr>\n      <th>10471</th>\n      <td>Error: Failed going to goal</td>\n      <td>None</td>\n      <td>2024-04-20 11:56:33.930000+00:00</td>\n      <td>Scooter27</td>\n      <td>65f9483463b8a173a0ec0b79</td>\n      <td>Going to Magazin_MS_1</td>\n      <td>False</td>\n      <td>driving</td>\n    </tr>\n    <tr>\n      <th>10472</th>\n      <td>None</td>\n      <td>Error: Failed going to goal</td>\n      <td>2024-04-20 11:56:47.241000+00:00</td>\n      <td>Scooter27</td>\n      <td>65f9483463b8a173a0ec0b79</td>\n      <td>Error: Failed going to goal</td>\n      <td>False</td>\n      <td>error</td>\n    </tr>\n    <tr>\n      <th>10473</th>\n      <td>Error: Failed going to goal</td>\n      <td>None</td>\n      <td>2024-04-20 11:56:47.638000+00:00</td>\n      <td>Scooter27</td>\n      <td>65f9483463b8a173a0ec0b79</td>\n      <td>Going to Magazin_MS_1</td>\n      <td>False</td>\n      <td>driving</td>\n    </tr>\n    <tr>\n      <th>10474</th>\n      <td>None</td>\n      <td>Error: Failed going to goal</td>\n      <td>2024-04-20 11:57:01.089000+00:00</td>\n      <td>Scooter27</td>\n      <td>65f9483463b8a173a0ec0b79</td>\n      <td>Error: Failed going to goal</td>\n      <td>False</td>\n      <td>error</td>\n    </tr>\n    <tr>\n      <th>10475</th>\n      <td>Error: Failed going to goal</td>\n      <td>None</td>\n      <td>2024-04-20 11:57:01.483000+00:00</td>\n      <td>Scooter27</td>\n      <td>65f9483463b8a173a0ec0b79</td>\n      <td>Teleop driving</td>\n      <td>False</td>\n      <td>error</td>\n    </tr>\n  </tbody>\n</table>\n<p>10303 rows × 8 columns</p>\n</div>"
     },
     "execution_count": 613,
     "metadata": {},
     "output_type": "execute_result"
    }
   ],
   "source": [
    "import pandas as pd\n",
    "from datetime import datetime as dt, timedelta as td\n",
    "file_path = 'scooter-errors-20240513.jsonl'\n",
    "df = pd.read_json(file_path, lines=True)\n",
    "#df.head(2)\n",
    "\n",
    "#df[\"info\"].unique()\n",
    "df['changed']=pd.to_datetime(df['changed']) \n",
    "df[df['changed']>=dt.fromisoformat(\"2024-04-18 04:51:47.382000+00:00\")]#pd.to_datetime(\"2024-04-18 04:51:47.382000+00:00\")#dt(2024,4,18,4,51,47)]"
   ]
  },
  {
   "cell_type": "code",
   "outputs": [
    {
     "data": {
      "text/plain": "array(['None', 'Error: Failed going to goal',\n       'WARNING: Localization score is very low!', 'Error: Waiting',\n       'Error: wait failed', 'Error: Disengage: Moving -70 mm',\n       'Error: Engage: Anfahrt...',\n       'Error: Cannot find path to Buffer_BK_344',\n       'Error: Failed to get to Back_342_Ver_PT_03_After',\n       \"Error: Failed going to managed motion buffer Buffer_342_Picking_Table_01 because robot path goes into a managed motion sector when it shouldn't.\",\n       'Error: Anfahrt...',\n       'Error: Input HasBoxes triggered, executing macro GoToS_Magazine_WIP_Leergut',\n       'Error: Failed to get to Buffer_322_Mag_Taxi_Ende',\n       'Error: Engage: Following guide',\n       'Error: Disengage: Changing Heading', 'Error: Cannot find path',\n       'Error: Input ModuleBackFree triggered, executing macro GoToS_Back_Ent_BK_34_1',\n       'Error: Disengage: Moving -75 mm',\n       \"Error: Failed because robot path goes into a managed motion sector when it shouldn't.\"],\n      dtype=object)"
     },
     "execution_count": 614,
     "metadata": {},
     "output_type": "execute_result"
    }
   ],
   "source": [
    "df[\"now\"].unique()"
   ],
   "metadata": {
    "collapsed": false,
    "ExecuteTime": {
     "end_time": "2024-05-24T11:25:42.539115Z",
     "start_time": "2024-05-24T11:25:42.529904Z"
    }
   },
   "id": "f4843f39c61ac223",
   "execution_count": 614
  },
  {
   "cell_type": "code",
   "outputs": [
    {
     "data": {
      "text/plain": "                                          prev                          now  \\\n6191                                      None  Error: Failed going to goal   \n6192               Error: Failed going to goal                         None   \n6193                                      None  Error: Failed going to goal   \n6194               Error: Failed going to goal                         None   \n6195                                      None  Error: Failed going to goal   \n...                                        ...                          ...   \n9871  WARNING: Localization score is very low!                         None   \n9876                                      None  Error: Failed going to goal   \n9877               Error: Failed going to goal                         None   \n9878                                      None  Error: Failed going to goal   \n9879               Error: Failed going to goal                         None   \n\n                              changed                          info  \\\n6191 2024-04-18 15:07:11.973000+00:00   Error: Failed going to goal   \n6192 2024-04-18 15:07:12.273000+00:00  Going to Linie_SMT_14_Rechts   \n6193 2024-04-18 15:07:23.973000+00:00   Error: Failed going to goal   \n6194 2024-04-18 15:07:24.574000+00:00  Going to Linie_SMT_14_Rechts   \n6195 2024-04-18 15:07:36.579000+00:00   Error: Failed going to goal   \n...                               ...                           ...   \n9871 2024-04-19 06:30:19.193000+00:00                Teleop driving   \n9876 2024-04-19 06:34:21.887000+00:00   Error: Failed going to goal   \n9877 2024-04-19 06:34:22.281000+00:00   Going to Linie_SMT_15_Links   \n9878 2024-04-19 06:34:33.596000+00:00   Error: Failed going to goal   \n9879 2024-04-19 06:34:33.882000+00:00   Going to Linie_SMT_15_Links   \n\n     statusActivity  \n6191          error  \n6192        driving  \n6193          error  \n6194        driving  \n6195          error  \n...             ...  \n9871        driving  \n9876          error  \n9877        driving  \n9878          error  \n9879        driving  \n\n[256 rows x 5 columns]",
      "text/html": "<div>\n<style scoped>\n    .dataframe tbody tr th:only-of-type {\n        vertical-align: middle;\n    }\n\n    .dataframe tbody tr th {\n        vertical-align: top;\n    }\n\n    .dataframe thead th {\n        text-align: right;\n    }\n</style>\n<table border=\"1\" class=\"dataframe\">\n  <thead>\n    <tr style=\"text-align: right;\">\n      <th></th>\n      <th>prev</th>\n      <th>now</th>\n      <th>changed</th>\n      <th>info</th>\n      <th>statusActivity</th>\n    </tr>\n  </thead>\n  <tbody>\n    <tr>\n      <th>6191</th>\n      <td>None</td>\n      <td>Error: Failed going to goal</td>\n      <td>2024-04-18 15:07:11.973000+00:00</td>\n      <td>Error: Failed going to goal</td>\n      <td>error</td>\n    </tr>\n    <tr>\n      <th>6192</th>\n      <td>Error: Failed going to goal</td>\n      <td>None</td>\n      <td>2024-04-18 15:07:12.273000+00:00</td>\n      <td>Going to Linie_SMT_14_Rechts</td>\n      <td>driving</td>\n    </tr>\n    <tr>\n      <th>6193</th>\n      <td>None</td>\n      <td>Error: Failed going to goal</td>\n      <td>2024-04-18 15:07:23.973000+00:00</td>\n      <td>Error: Failed going to goal</td>\n      <td>error</td>\n    </tr>\n    <tr>\n      <th>6194</th>\n      <td>Error: Failed going to goal</td>\n      <td>None</td>\n      <td>2024-04-18 15:07:24.574000+00:00</td>\n      <td>Going to Linie_SMT_14_Rechts</td>\n      <td>driving</td>\n    </tr>\n    <tr>\n      <th>6195</th>\n      <td>None</td>\n      <td>Error: Failed going to goal</td>\n      <td>2024-04-18 15:07:36.579000+00:00</td>\n      <td>Error: Failed going to goal</td>\n      <td>error</td>\n    </tr>\n    <tr>\n      <th>...</th>\n      <td>...</td>\n      <td>...</td>\n      <td>...</td>\n      <td>...</td>\n      <td>...</td>\n    </tr>\n    <tr>\n      <th>9871</th>\n      <td>WARNING: Localization score is very low!</td>\n      <td>None</td>\n      <td>2024-04-19 06:30:19.193000+00:00</td>\n      <td>Teleop driving</td>\n      <td>driving</td>\n    </tr>\n    <tr>\n      <th>9876</th>\n      <td>None</td>\n      <td>Error: Failed going to goal</td>\n      <td>2024-04-19 06:34:21.887000+00:00</td>\n      <td>Error: Failed going to goal</td>\n      <td>error</td>\n    </tr>\n    <tr>\n      <th>9877</th>\n      <td>Error: Failed going to goal</td>\n      <td>None</td>\n      <td>2024-04-19 06:34:22.281000+00:00</td>\n      <td>Going to Linie_SMT_15_Links</td>\n      <td>driving</td>\n    </tr>\n    <tr>\n      <th>9878</th>\n      <td>None</td>\n      <td>Error: Failed going to goal</td>\n      <td>2024-04-19 06:34:33.596000+00:00</td>\n      <td>Error: Failed going to goal</td>\n      <td>error</td>\n    </tr>\n    <tr>\n      <th>9879</th>\n      <td>Error: Failed going to goal</td>\n      <td>None</td>\n      <td>2024-04-19 06:34:33.882000+00:00</td>\n      <td>Going to Linie_SMT_15_Links</td>\n      <td>driving</td>\n    </tr>\n  </tbody>\n</table>\n<p>256 rows × 5 columns</p>\n</div>"
     },
     "execution_count": 615,
     "metadata": {},
     "output_type": "execute_result"
    }
   ],
   "source": [
    "#df[df[\"name\"]==\"Scooter22\"][df[\"prev\"]==\"None\"][[\"prev\", \"now\", \"changed\", \"info\", \"emergencyState\", \"statusActivity\"]]#noneleft\n",
    "\n",
    "\n",
    "df_def=df[(df[\"name\"]==\"Scooter06\")][[\"prev\", \"now\", \"changed\", \"info\", \"statusActivity\"]]#[:-1]#Scooter08\n",
    "df1=df_def[df_def[\"prev\"]==\"None\"]#224\n",
    "df2=df_def[df_def[\"now\"]==\"None\"]#224\n",
    "#id1_map={old_id: new_id for new_id, old_id in enumerate(df1['ID'].unique())}\n",
    "df1.reset_index(drop=True, inplace=True)\n",
    "df2.reset_index(drop=True, inplace=True)\n",
    "\n",
    "pd.to_datetime(df_def['changed'])\n",
    "\n",
    "start_time=dt.strptime(\"2024-04-18 15:07:10.382000+00:00\",'%Y-%m-%d %H:%M:%S.%f%z')\n",
    "\n",
    "df_def[df_def['changed']>=start_time]\n"
   ],
   "metadata": {
    "collapsed": false,
    "ExecuteTime": {
     "end_time": "2024-05-24T11:25:42.559063Z",
     "start_time": "2024-05-24T11:25:42.540122Z"
    }
   },
   "id": "bf8930f45591ec1d",
   "execution_count": 615
  },
  {
   "cell_type": "code",
   "outputs": [
    {
     "data": {
      "text/plain": "     prev                                       now  \\\n0    None               Error: Failed going to goal   \n1    None               Error: Failed going to goal   \n2    None               Error: Failed going to goal   \n3    None               Error: Failed going to goal   \n4    None               Error: Failed going to goal   \n..    ...                                       ...   \n212  None               Error: Failed going to goal   \n213  None  WARNING: Localization score is very low!   \n214  None  WARNING: Localization score is very low!   \n215  None               Error: Failed going to goal   \n216  None               Error: Failed going to goal   \n\n                             changed                         info  \\\n0   2024-04-18 04:54:37.030000+00:00  Error: Failed going to goal   \n1   2024-04-18 04:55:02.208000+00:00  Error: Failed going to goal   \n2   2024-04-18 04:55:14.256000+00:00  Error: Failed going to goal   \n3   2024-04-18 04:55:26.502000+00:00  Error: Failed going to goal   \n4   2024-04-18 04:55:39.702000+00:00  Error: Failed going to goal   \n..                               ...                          ...   \n212 2024-04-19 06:29:36.580000+00:00  Error: Failed going to goal   \n213 2024-04-19 06:29:49.784000+00:00               Teleop driving   \n214 2024-04-19 06:30:18.886000+00:00               Teleop driving   \n215 2024-04-19 06:34:21.887000+00:00  Error: Failed going to goal   \n216 2024-04-19 06:34:33.596000+00:00  Error: Failed going to goal   \n\n    statusActivity  \n0            error  \n1            error  \n2            error  \n3            error  \n4            error  \n..             ...  \n212          error  \n213        driving  \n214        driving  \n215          error  \n216          error  \n\n[217 rows x 5 columns]",
      "text/html": "<div>\n<style scoped>\n    .dataframe tbody tr th:only-of-type {\n        vertical-align: middle;\n    }\n\n    .dataframe tbody tr th {\n        vertical-align: top;\n    }\n\n    .dataframe thead th {\n        text-align: right;\n    }\n</style>\n<table border=\"1\" class=\"dataframe\">\n  <thead>\n    <tr style=\"text-align: right;\">\n      <th></th>\n      <th>prev</th>\n      <th>now</th>\n      <th>changed</th>\n      <th>info</th>\n      <th>statusActivity</th>\n    </tr>\n  </thead>\n  <tbody>\n    <tr>\n      <th>0</th>\n      <td>None</td>\n      <td>Error: Failed going to goal</td>\n      <td>2024-04-18 04:54:37.030000+00:00</td>\n      <td>Error: Failed going to goal</td>\n      <td>error</td>\n    </tr>\n    <tr>\n      <th>1</th>\n      <td>None</td>\n      <td>Error: Failed going to goal</td>\n      <td>2024-04-18 04:55:02.208000+00:00</td>\n      <td>Error: Failed going to goal</td>\n      <td>error</td>\n    </tr>\n    <tr>\n      <th>2</th>\n      <td>None</td>\n      <td>Error: Failed going to goal</td>\n      <td>2024-04-18 04:55:14.256000+00:00</td>\n      <td>Error: Failed going to goal</td>\n      <td>error</td>\n    </tr>\n    <tr>\n      <th>3</th>\n      <td>None</td>\n      <td>Error: Failed going to goal</td>\n      <td>2024-04-18 04:55:26.502000+00:00</td>\n      <td>Error: Failed going to goal</td>\n      <td>error</td>\n    </tr>\n    <tr>\n      <th>4</th>\n      <td>None</td>\n      <td>Error: Failed going to goal</td>\n      <td>2024-04-18 04:55:39.702000+00:00</td>\n      <td>Error: Failed going to goal</td>\n      <td>error</td>\n    </tr>\n    <tr>\n      <th>...</th>\n      <td>...</td>\n      <td>...</td>\n      <td>...</td>\n      <td>...</td>\n      <td>...</td>\n    </tr>\n    <tr>\n      <th>212</th>\n      <td>None</td>\n      <td>Error: Failed going to goal</td>\n      <td>2024-04-19 06:29:36.580000+00:00</td>\n      <td>Error: Failed going to goal</td>\n      <td>error</td>\n    </tr>\n    <tr>\n      <th>213</th>\n      <td>None</td>\n      <td>WARNING: Localization score is very low!</td>\n      <td>2024-04-19 06:29:49.784000+00:00</td>\n      <td>Teleop driving</td>\n      <td>driving</td>\n    </tr>\n    <tr>\n      <th>214</th>\n      <td>None</td>\n      <td>WARNING: Localization score is very low!</td>\n      <td>2024-04-19 06:30:18.886000+00:00</td>\n      <td>Teleop driving</td>\n      <td>driving</td>\n    </tr>\n    <tr>\n      <th>215</th>\n      <td>None</td>\n      <td>Error: Failed going to goal</td>\n      <td>2024-04-19 06:34:21.887000+00:00</td>\n      <td>Error: Failed going to goal</td>\n      <td>error</td>\n    </tr>\n    <tr>\n      <th>216</th>\n      <td>None</td>\n      <td>Error: Failed going to goal</td>\n      <td>2024-04-19 06:34:33.596000+00:00</td>\n      <td>Error: Failed going to goal</td>\n      <td>error</td>\n    </tr>\n  </tbody>\n</table>\n<p>217 rows × 5 columns</p>\n</div>"
     },
     "execution_count": 616,
     "metadata": {},
     "output_type": "execute_result"
    }
   ],
   "source": [
    "df1"
   ],
   "metadata": {
    "collapsed": false,
    "ExecuteTime": {
     "end_time": "2024-05-24T11:25:42.573053Z",
     "start_time": "2024-05-24T11:25:42.560124Z"
    }
   },
   "id": "fbf95a14a74a8102",
   "execution_count": 616
  },
  {
   "cell_type": "code",
   "outputs": [
    {
     "data": {
      "text/plain": "                                         prev   now  \\\n0                 Error: Failed going to goal  None   \n1                 Error: Failed going to goal  None   \n2                 Error: Failed going to goal  None   \n3                 Error: Failed going to goal  None   \n4                 Error: Failed going to goal  None   \n..                                        ...   ...   \n212               Error: Failed going to goal  None   \n213  WARNING: Localization score is very low!  None   \n214  WARNING: Localization score is very low!  None   \n215               Error: Failed going to goal  None   \n216               Error: Failed going to goal  None   \n\n                             changed                          info  \\\n0   2024-04-18 04:54:37.965000+00:00  Going to Linie_SMT_18_Rechts   \n1   2024-04-18 04:55:02.800000+00:00  Going to Linie_SMT_18_Rechts   \n2   2024-04-18 04:55:15.405000+00:00  Going to Linie_SMT_18_Rechts   \n3   2024-04-18 04:55:27.099000+00:00  Going to Linie_SMT_18_Rechts   \n4   2024-04-18 04:55:40.006000+00:00  Going to Linie_SMT_18_Rechts   \n..                               ...                           ...   \n212 2024-04-19 06:29:37.023000+00:00     Going to SMT_Lager47_auto   \n213 2024-04-19 06:29:49.981000+00:00                Teleop driving   \n214 2024-04-19 06:30:19.193000+00:00                Teleop driving   \n215 2024-04-19 06:34:22.281000+00:00   Going to Linie_SMT_15_Links   \n216 2024-04-19 06:34:33.882000+00:00   Going to Linie_SMT_15_Links   \n\n    statusActivity  \n0          driving  \n1          driving  \n2          driving  \n3          driving  \n4          driving  \n..             ...  \n212        driving  \n213        driving  \n214        driving  \n215        driving  \n216        driving  \n\n[217 rows x 5 columns]",
      "text/html": "<div>\n<style scoped>\n    .dataframe tbody tr th:only-of-type {\n        vertical-align: middle;\n    }\n\n    .dataframe tbody tr th {\n        vertical-align: top;\n    }\n\n    .dataframe thead th {\n        text-align: right;\n    }\n</style>\n<table border=\"1\" class=\"dataframe\">\n  <thead>\n    <tr style=\"text-align: right;\">\n      <th></th>\n      <th>prev</th>\n      <th>now</th>\n      <th>changed</th>\n      <th>info</th>\n      <th>statusActivity</th>\n    </tr>\n  </thead>\n  <tbody>\n    <tr>\n      <th>0</th>\n      <td>Error: Failed going to goal</td>\n      <td>None</td>\n      <td>2024-04-18 04:54:37.965000+00:00</td>\n      <td>Going to Linie_SMT_18_Rechts</td>\n      <td>driving</td>\n    </tr>\n    <tr>\n      <th>1</th>\n      <td>Error: Failed going to goal</td>\n      <td>None</td>\n      <td>2024-04-18 04:55:02.800000+00:00</td>\n      <td>Going to Linie_SMT_18_Rechts</td>\n      <td>driving</td>\n    </tr>\n    <tr>\n      <th>2</th>\n      <td>Error: Failed going to goal</td>\n      <td>None</td>\n      <td>2024-04-18 04:55:15.405000+00:00</td>\n      <td>Going to Linie_SMT_18_Rechts</td>\n      <td>driving</td>\n    </tr>\n    <tr>\n      <th>3</th>\n      <td>Error: Failed going to goal</td>\n      <td>None</td>\n      <td>2024-04-18 04:55:27.099000+00:00</td>\n      <td>Going to Linie_SMT_18_Rechts</td>\n      <td>driving</td>\n    </tr>\n    <tr>\n      <th>4</th>\n      <td>Error: Failed going to goal</td>\n      <td>None</td>\n      <td>2024-04-18 04:55:40.006000+00:00</td>\n      <td>Going to Linie_SMT_18_Rechts</td>\n      <td>driving</td>\n    </tr>\n    <tr>\n      <th>...</th>\n      <td>...</td>\n      <td>...</td>\n      <td>...</td>\n      <td>...</td>\n      <td>...</td>\n    </tr>\n    <tr>\n      <th>212</th>\n      <td>Error: Failed going to goal</td>\n      <td>None</td>\n      <td>2024-04-19 06:29:37.023000+00:00</td>\n      <td>Going to SMT_Lager47_auto</td>\n      <td>driving</td>\n    </tr>\n    <tr>\n      <th>213</th>\n      <td>WARNING: Localization score is very low!</td>\n      <td>None</td>\n      <td>2024-04-19 06:29:49.981000+00:00</td>\n      <td>Teleop driving</td>\n      <td>driving</td>\n    </tr>\n    <tr>\n      <th>214</th>\n      <td>WARNING: Localization score is very low!</td>\n      <td>None</td>\n      <td>2024-04-19 06:30:19.193000+00:00</td>\n      <td>Teleop driving</td>\n      <td>driving</td>\n    </tr>\n    <tr>\n      <th>215</th>\n      <td>Error: Failed going to goal</td>\n      <td>None</td>\n      <td>2024-04-19 06:34:22.281000+00:00</td>\n      <td>Going to Linie_SMT_15_Links</td>\n      <td>driving</td>\n    </tr>\n    <tr>\n      <th>216</th>\n      <td>Error: Failed going to goal</td>\n      <td>None</td>\n      <td>2024-04-19 06:34:33.882000+00:00</td>\n      <td>Going to Linie_SMT_15_Links</td>\n      <td>driving</td>\n    </tr>\n  </tbody>\n</table>\n<p>217 rows × 5 columns</p>\n</div>"
     },
     "execution_count": 617,
     "metadata": {},
     "output_type": "execute_result"
    }
   ],
   "source": [
    "df2"
   ],
   "metadata": {
    "collapsed": false,
    "ExecuteTime": {
     "end_time": "2024-05-24T11:25:42.586546Z",
     "start_time": "2024-05-24T11:25:42.575115Z"
    }
   },
   "id": "cfa7f11d6721a57f",
   "execution_count": 617
  },
  {
   "cell_type": "code",
   "outputs": [],
   "source": [
    "df1=df1.copy()[['changed','now','info']]\n",
    "df2=df2.copy()[['changed','info']]\n",
    "#df1.loc[:,'resolved']=df2[:,'changed'].apply(lambda x: str(x))\n",
    "\n",
    "#df1['changed'].apply(lambda x: x.)\n",
    "\n",
    "#df2.loc[:,'lol']=df1[:,'prev']\n",
    "#pd.concat([df1['changed'].add_suffix('_old'),df2['changed'].add_suffix('_new')], axis=1, ignore_index=True)\n",
    "\n",
    "times=pd.concat([df1, df2], axis=1)\n",
    "times.columns=['died','error_died','info_died','recovered','info_recovered']\n",
    "\n",
    "\n",
    "format = \"%Y-%m-%dT%H:%M:%S.%fZ\"\n",
    "#times['died'].apply(lambda x: dt.strptime(x,format))\n",
    "#times['recovered'].apply(lambda x: dt.strptime(x,format))\n",
    "\n",
    "times['died']=pd.to_datetime(times['died'])\n",
    "times['recovered']=pd.to_datetime(times['recovered'])"
   ],
   "metadata": {
    "collapsed": false,
    "ExecuteTime": {
     "end_time": "2024-05-24T11:25:42.595880Z",
     "start_time": "2024-05-24T11:25:42.587601Z"
    }
   },
   "id": "737e31af88065ceb",
   "execution_count": 618
  },
  {
   "cell_type": "code",
   "outputs": [],
   "source": [
    "times['delta']=times['recovered']-times['died']\n",
    "times=times[['died','recovered','delta','error_died','info_died','info_recovered']]"
   ],
   "metadata": {
    "collapsed": false,
    "ExecuteTime": {
     "end_time": "2024-05-24T11:25:42.605216Z",
     "start_time": "2024-05-24T11:25:42.598010Z"
    }
   },
   "id": "46369c96454b3d6a",
   "execution_count": 619
  },
  {
   "cell_type": "code",
   "outputs": [
    {
     "data": {
      "text/plain": "                     error_died                    info_died  \\\n34  Error: Failed going to goal  Error: Failed going to goal   \n35  Error: Failed going to goal  Error: Failed going to goal   \n92  Error: Failed going to goal  Error: Failed going to goal   \n\n                 info_recovered  \n34  Going to Linie_SMT_15_Links  \n35  Going to Linie_SMT_15_Links  \n92  Going to Linie_SMT_16_Links  ",
      "text/html": "<div>\n<style scoped>\n    .dataframe tbody tr th:only-of-type {\n        vertical-align: middle;\n    }\n\n    .dataframe tbody tr th {\n        vertical-align: top;\n    }\n\n    .dataframe thead th {\n        text-align: right;\n    }\n</style>\n<table border=\"1\" class=\"dataframe\">\n  <thead>\n    <tr style=\"text-align: right;\">\n      <th></th>\n      <th>error_died</th>\n      <th>info_died</th>\n      <th>info_recovered</th>\n    </tr>\n  </thead>\n  <tbody>\n    <tr>\n      <th>34</th>\n      <td>Error: Failed going to goal</td>\n      <td>Error: Failed going to goal</td>\n      <td>Going to Linie_SMT_15_Links</td>\n    </tr>\n    <tr>\n      <th>35</th>\n      <td>Error: Failed going to goal</td>\n      <td>Error: Failed going to goal</td>\n      <td>Going to Linie_SMT_15_Links</td>\n    </tr>\n    <tr>\n      <th>92</th>\n      <td>Error: Failed going to goal</td>\n      <td>Error: Failed going to goal</td>\n      <td>Going to Linie_SMT_16_Links</td>\n    </tr>\n  </tbody>\n</table>\n</div>"
     },
     "execution_count": 620,
     "metadata": {},
     "output_type": "execute_result"
    }
   ],
   "source": [
    "long_fixes=times[times['delta']>td(seconds=60)]\n",
    "long_fixes[['error_died','info_died','info_recovered']]"
   ],
   "metadata": {
    "collapsed": false,
    "ExecuteTime": {
     "end_time": "2024-05-24T11:25:42.619069Z",
     "start_time": "2024-05-24T11:25:42.607364Z"
    }
   },
   "id": "a130d7d7d70a185e",
   "execution_count": 620
  }
 ],
 "metadata": {
  "kernelspec": {
   "display_name": "Python 3 (ipykernel)",
   "language": "python",
   "name": "python3"
  },
  "language_info": {
   "codemirror_mode": {
    "name": "ipython",
    "version": 3
   },
   "file_extension": ".py",
   "mimetype": "text/x-python",
   "name": "python",
   "nbconvert_exporter": "python",
   "pygments_lexer": "ipython3",
   "version": "3.12.3"
  }
 },
 "nbformat": 4,
 "nbformat_minor": 5
}
